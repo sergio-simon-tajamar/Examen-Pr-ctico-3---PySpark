{
 "cells": [
  {
   "cell_type": "markdown",
   "metadata": {
    "application/vnd.databricks.v1+cell": {
     "cellMetadata": {},
     "inputWidgets": {},
     "nuid": "7bc88472-0819-44bb-a870-05c265cca4c5",
     "showTitle": false,
     "tableResultSettingsMap": {},
     "title": ""
    }
   },
   "source": [
    "# Encontrando insights de la UEFA Champions League"
   ]
  },
  {
   "cell_type": "markdown",
   "metadata": {
    "application/vnd.databricks.v1+cell": {
     "cellMetadata": {},
     "inputWidgets": {},
     "nuid": "dec9c196-3f29-444f-a2f7-13e3827b29ef",
     "showTitle": false,
     "tableResultSettingsMap": {},
     "title": ""
    }
   },
   "source": [
    "La Liga de Campeones de la UEFA, a menudo llamada Liga de Campeones, es una competencia anual de fútbol por excelencia que cautiva a los fanáticos de todo el mundo. Establecida en 1955 como la Copa de Clubes Campeones de Europa, evolucionó a la Liga de Campeones de la UEFA en 1992, ampliando su atractivo. El formato moderno cuenta con 32 equipos de clubes de primer nivel seleccionados en función de su desempeño en la liga nacional, lo que aumenta la intriga.  \n",
    "\n",
    "Este evento electrizante trasciende los deportes y se convierte en una celebración de la unidad, la cultura y el orgullo nacional. Los fanáticos, vestidos con los colores de sus países, crean una atmósfera eléctrica, lo que hace que el torneo sea tanto sobre los espectadores como sobre los jugadores. Financieramente, la Liga de Campeones es un salvavidas para los clubes, ya que aumenta los ingresos y ofrece oportunidades transformadoras. Sin embargo, genera debates sobre las disparidades de riqueza en el fútbol europeo.  \n",
    "\n",
    "La Liga de Campeones es sinónimo de rivalidades históricas, triunfos de los desvalidos y brillantez individual. Para los jugadores, representa la cima de su carrera, mientras que para los fanáticos, es un fenómeno cultural. El himno y los rituales icónicos enriquecen la experiencia futbolística. En 200 palabras, la UEFA Champions League es el epítome de la excelencia del fútbol europeo, que ofrece momentos inolvidables, recompensas económicas y un impacto cultural único, con 32 clubes de primer nivel que se suman a su atractivo."
   ]
  },
  {
   "cell_type": "markdown",
   "metadata": {
    "application/vnd.databricks.v1+cell": {
     "cellMetadata": {
      "byteLimit": 2048000,
      "rowLimit": 10000
     },
     "inputWidgets": {},
     "nuid": "3ff8fe53-6686-4ae2-8c5b-662e85535ff5",
     "showTitle": false,
     "tableResultSettingsMap": {},
     "title": ""
    }
   },
   "source": [
    "**Nombres de las tablas o ficheros a utilizar**:  \n",
    "[uefa_2020.csv](https://tajamar365.sharepoint.com/:x:/s/3405-MasterIA2024-2025/EQuW8d16tZJKpYZN6jR480sBgc1IYypAw9hGHKQARS560g?e=7TybBU)  \n",
    "[uefa_2021.csv](https://tajamar365.sharepoint.com/:x:/s/3405-MasterIA2024-2025/ESG8YBrjD3tBky3aGT0MwIABNt_PQxFVVYVlWMnZYUmV8g?e=VrYHtX)  \n",
    "[uefa_2022.csv](https://tajamar365.sharepoint.com/:x:/s/3405-MasterIA2024-2025/Ecf8O8U8sxJLoW9Bkd2ZVzgBb_gZc35mNcprnR9FMlzliQ?e=Vn3a6v)  \n",
    "- Todas las tablas tienen las mismas columnas y data types"
   ]
  },
  {
   "cell_type": "markdown",
   "metadata": {
    "application/vnd.databricks.v1+cell": {
     "cellMetadata": {},
     "inputWidgets": {},
     "nuid": "910b06ac-21ef-4f0c-bb95-9611f90d7635",
     "showTitle": false,
     "tableResultSettingsMap": {},
     "title": ""
    }
   },
   "source": [
    "| Column | Definition | Data type |\n",
    "|--------|------------|-----------|\n",
    "| `STAGE`| Stage of the March | `VARCHAR(50)` |\n",
    "| `DATE` | When the match occurred. | `DATE` |\n",
    "| `PENS` | Did the match end with penalty | `VARCHAR(50)` |\n",
    "| `PENS_HOME_SCORE` | In case of penalty, score by home team | `VARCHAR(50)` |\n",
    "| `PENS_AWAY_SCORE` | In case of penalty, score by away team | `VARCHAR(50)` |\n",
    "| `TEAM_NAME_HOME` | Team home name | `VARCHAR(50)` |\n",
    "| `TEAM_NAME_AWAY`| Team away  name | `VARCHAR(50)` |\n",
    "| `TEAM_HOME_SCORE` | Team home score | `NUMBER` |\n",
    "| `TEAM_AWAY_SCORE` | Team away score | `NUMBER` |\n",
    "| `POSSESSION_HOME` | Ball possession for the home team | `FLOAT` |\n",
    "| `POSSESSION_AWAY` | Ball possession for the away team | `FLOAT` |\n",
    "| `TOTAL_SHOTS_HOME` | Number of shots by the home team | `NUMBER` |\n",
    "| `TOTAL_SHOTS_AWAY` | Number of shots by the away team | `NUMBER`\n",
    "| `SHOTS_ON_TARGET_HOME` | Total shot for home team | `FLOAT` |\n",
    "| `SHOTS_ON_TARGET_AWAY` | Total shot for away team | `FLOAT` |\n",
    "| `DUELS_WON_HOME` | duel win possession of ball - for home team | `NUMBER` |\n",
    "| `DUELS_WON_AWAY` | duel win possession of ball - for away team | `NUMBER` \n",
    "| `PREDICTION_TEAM_HOME_WIN` | Probability of home team to win | `FLOAT` |\n",
    "| `PREDICTION_DRAW` | Probability of draw | `FLOAT` |\n",
    "| `PREDICTION_TEAM_AWAY_WIN` | Probability of away team to win | `FLOAT` |\n",
    "| `LOCATION` | Stadium where the match was held | `VARCHAR(50)` |"
   ]
  },
  {
   "cell_type": "markdown",
   "metadata": {
    "application/vnd.databricks.v1+cell": {
     "cellMetadata": {},
     "inputWidgets": {},
     "nuid": "b6ed3067-8a31-45a7-9120-766336560fef",
     "showTitle": false,
     "tableResultSettingsMap": {},
     "title": ""
    }
   },
   "source": [
    "### Requerimientos:  \n",
    "-Puedes utilizar SQL o PySpark"
   ]
  },
  {
   "cell_type": "markdown",
   "metadata": {
    "application/vnd.databricks.v1+cell": {
     "cellMetadata": {},
     "inputWidgets": {},
     "nuid": "96872dad-7ed6-4372-84e9-763aa2d6c83f",
     "showTitle": false,
     "tableResultSettingsMap": {},
     "title": ""
    }
   },
   "source": [
    "1. Encuentra los 3 equipos que anotaron más goles jugando en su estadio en la UEFA Champions League 2020-21. El resultado debe contener dos columnas: TEAM_NAME_HOME y TEAM_HOME_SCORE ordenadas en orden descendente de TEAM_HOME_SCORE. Guarda la consulta (o el notebook) como TEAM_HOME_WITH_MOST_GOALS."
   ]
  },
  {
   "cell_type": "markdown",
   "metadata": {
    "application/vnd.databricks.v1+cell": {
     "cellMetadata": {},
     "inputWidgets": {},
     "nuid": "b375e92e-5c96-4ee8-8c35-29b8e7ab887f",
     "showTitle": false,
     "tableResultSettingsMap": {},
     "title": ""
    }
   },
   "source": [
    "2. Encuentra el equipo con posesión mayoritaria la mayor cantidad de veces durante la UEFA Champions League 2021-22. El resultado debe incluir dos columnas: TEAM_NAME y GAME_COUNT, que es la cantidad de veces que el equipo tuvo posesión mayoritaria durante un partido de fútbol. Guarda esta consulta (o el notebook) como TEAM_WITH_MAJORITY_POSSESSION"
   ]
  },
  {
   "cell_type": "markdown",
   "metadata": {
    "application/vnd.databricks.v1+cell": {
     "cellMetadata": {},
     "inputWidgets": {},
     "nuid": "7c960a38-f12d-4b88-aaad-b70de0c2323f",
     "showTitle": false,
     "tableResultSettingsMap": {},
     "title": ""
    }
   },
   "source": [
    "3. Encuentra la lista de equipos de cada fase del juego que ganaron el duelo en un partido pero terminaron perdiendo el juego en el Campeonato de la UEFA 2022-23. El resultado debe contener dos columnas: STAGE y TEAM_LOST. Guarda la consulta (o el notebook) como TEAM_WON_DUEL_LOST_GAME_STAGE_WISE."
   ]
  },
  {
   "cell_type": "code",
   "execution_count": 0,
   "metadata": {
    "application/vnd.databricks.v1+cell": {
     "cellMetadata": {},
     "inputWidgets": {},
     "nuid": "5b5a904a-58be-4e45-8a29-d16b3b8fa65f",
     "showTitle": false,
     "tableResultSettingsMap": {},
     "title": ""
    }
   },
   "outputs": [],
   "source": []
  }
 ],
 "metadata": {
  "application/vnd.databricks.v1+notebook": {
   "dashboards": [],
   "environmentMetadata": null,
   "language": "python",
   "notebookMetadata": {
    "pythonIndentUnit": 4
   },
   "notebookName": "Caso_2",
   "widgets": {}
  }
 },
 "nbformat": 4,
 "nbformat_minor": 0
}
