{
 "cells": [
  {
   "cell_type": "markdown",
   "metadata": {
    "application/vnd.databricks.v1+cell": {
     "cellMetadata": {
      "byteLimit": 2048000,
      "rowLimit": 10000
     },
     "inputWidgets": {},
     "nuid": "7bc88472-0819-44bb-a870-05c265cca4c5",
     "showTitle": false,
     "tableResultSettingsMap": {},
     "title": ""
    }
   },
   "source": [
    "# Encontrando insights de la UEFA Champions League"
   ]
  },
  {
   "cell_type": "markdown",
   "metadata": {
    "application/vnd.databricks.v1+cell": {
     "cellMetadata": {
      "byteLimit": 2048000,
      "rowLimit": 10000
     },
     "inputWidgets": {},
     "nuid": "dec9c196-3f29-444f-a2f7-13e3827b29ef",
     "showTitle": false,
     "tableResultSettingsMap": {},
     "title": ""
    }
   },
   "source": [
    "La Liga de Campeones de la UEFA, a menudo llamada Liga de Campeones, es una competencia anual de fútbol por excelencia que cautiva a los fanáticos de todo el mundo. Establecida en 1955 como la Copa de Clubes Campeones de Europa, evolucionó a la Liga de Campeones de la UEFA en 1992, ampliando su atractivo. El formato moderno cuenta con 32 equipos de clubes de primer nivel seleccionados en función de su desempeño en la liga nacional, lo que aumenta la intriga.  \n",
    "\n",
    "Este evento electrizante trasciende los deportes y se convierte en una celebración de la unidad, la cultura y el orgullo nacional. Los fanáticos, vestidos con los colores de sus países, crean una atmósfera eléctrica, lo que hace que el torneo sea tanto sobre los espectadores como sobre los jugadores. Financieramente, la Liga de Campeones es un salvavidas para los clubes, ya que aumenta los ingresos y ofrece oportunidades transformadoras. Sin embargo, genera debates sobre las disparidades de riqueza en el fútbol europeo.  \n",
    "\n",
    "La Liga de Campeones es sinónimo de rivalidades históricas, triunfos de los desvalidos y brillantez individual. Para los jugadores, representa la cima de su carrera, mientras que para los fanáticos, es un fenómeno cultural. El himno y los rituales icónicos enriquecen la experiencia futbolística. En 200 palabras, la UEFA Champions League es el epítome de la excelencia del fútbol europeo, que ofrece momentos inolvidables, recompensas económicas y un impacto cultural único, con 32 clubes de primer nivel que se suman a su atractivo."
   ]
  },
  {
   "cell_type": "markdown",
   "metadata": {
    "application/vnd.databricks.v1+cell": {
     "cellMetadata": {
      "byteLimit": 2048000,
      "rowLimit": 10000
     },
     "inputWidgets": {},
     "nuid": "3ff8fe53-6686-4ae2-8c5b-662e85535ff5",
     "showTitle": false,
     "tableResultSettingsMap": {},
     "title": ""
    }
   },
   "source": [
    "**Nombres de las tablas o ficheros a utilizar**:  \n",
    "[uefa_2020.csv](https://tajamar365.sharepoint.com/:x:/s/3405-MasterIA2024-2025/EQuW8d16tZJKpYZN6jR480sBgc1IYypAw9hGHKQARS560g?e=7TybBU)  \n",
    "[uefa_2021.csv](https://tajamar365.sharepoint.com/:x:/s/3405-MasterIA2024-2025/ESG8YBrjD3tBky3aGT0MwIABNt_PQxFVVYVlWMnZYUmV8g?e=VrYHtX)  \n",
    "[uefa_2022.csv](https://tajamar365.sharepoint.com/:x:/s/3405-MasterIA2024-2025/Ecf8O8U8sxJLoW9Bkd2ZVzgBb_gZc35mNcprnR9FMlzliQ?e=Vn3a6v)  \n",
    "- Todas las tablas tienen las mismas columnas y data types"
   ]
  },
  {
   "cell_type": "markdown",
   "metadata": {
    "application/vnd.databricks.v1+cell": {
     "cellMetadata": {
      "byteLimit": 2048000,
      "rowLimit": 10000
     },
     "inputWidgets": {},
     "nuid": "910b06ac-21ef-4f0c-bb95-9611f90d7635",
     "showTitle": false,
     "tableResultSettingsMap": {},
     "title": ""
    }
   },
   "source": [
    "| Column | Definition | Data type |\n",
    "|--------|------------|-----------|\n",
    "| `STAGE`| Stage of the March | `VARCHAR(50)` |\n",
    "| `DATE` | When the match occurred. | `DATE` |\n",
    "| `PENS` | Did the match end with penalty | `VARCHAR(50)` |\n",
    "| `PENS_HOME_SCORE` | In case of penalty, score by home team | `VARCHAR(50)` |\n",
    "| `PENS_AWAY_SCORE` | In case of penalty, score by away team | `VARCHAR(50)` |\n",
    "| `TEAM_NAME_HOME` | Team home name | `VARCHAR(50)` |\n",
    "| `TEAM_NAME_AWAY`| Team away  name | `VARCHAR(50)` |\n",
    "| `TEAM_HOME_SCORE` | Team home score | `NUMBER` |\n",
    "| `TEAM_AWAY_SCORE` | Team away score | `NUMBER` |\n",
    "| `POSSESSION_HOME` | Ball possession for the home team | `FLOAT` |\n",
    "| `POSSESSION_AWAY` | Ball possession for the away team | `FLOAT` |\n",
    "| `TOTAL_SHOTS_HOME` | Number of shots by the home team | `NUMBER` |\n",
    "| `TOTAL_SHOTS_AWAY` | Number of shots by the away team | `NUMBER`\n",
    "| `SHOTS_ON_TARGET_HOME` | Total shot for home team | `FLOAT` |\n",
    "| `SHOTS_ON_TARGET_AWAY` | Total shot for away team | `FLOAT` |\n",
    "| `DUELS_WON_HOME` | duel win possession of ball - for home team | `NUMBER` |\n",
    "| `DUELS_WON_AWAY` | duel win possession of ball - for away team | `NUMBER` \n",
    "| `PREDICTION_TEAM_HOME_WIN` | Probability of home team to win | `FLOAT` |\n",
    "| `PREDICTION_DRAW` | Probability of draw | `FLOAT` |\n",
    "| `PREDICTION_TEAM_AWAY_WIN` | Probability of away team to win | `FLOAT` |\n",
    "| `LOCATION` | Stadium where the match was held | `VARCHAR(50)` |"
   ]
  },
  {
   "cell_type": "markdown",
   "metadata": {
    "application/vnd.databricks.v1+cell": {
     "cellMetadata": {
      "byteLimit": 2048000,
      "rowLimit": 10000
     },
     "inputWidgets": {},
     "nuid": "982aa21d-0d2a-4cd1-b1cc-1b8c103c512d",
     "showTitle": false,
     "tableResultSettingsMap": {},
     "title": ""
    }
   },
   "source": [
    "\n",
    "| Columna                         | Definición                                            | Tipo de dato    |\n",
    "|----------------------------------|-------------------------------------------------------|-----------------|\n",
    "| `STAGE`                          | Etapa del partido                                    | `VARCHAR(50)`   |\n",
    "| `DATE`                           | Fecha en que ocurrió el partido                      | `DATE`          |\n",
    "| `PENS`                           | ¿Terminó el partido con penales?                     | `VARCHAR(50)`   |\n",
    "| `PENS_HOME_SCORE`                | En caso de penales, puntuación del equipo local       | `VARCHAR(50)`   |\n",
    "| `PENS_AWAY_SCORE`                | En caso de penales, puntuación del equipo visitante   | `VARCHAR(50)`   |\n",
    "| `TEAM_NAME_HOME`                 | Nombre del equipo local                              | `VARCHAR(50)`   |\n",
    "| `TEAM_NAME_AWAY`                 | Nombre del equipo visitante                          | `VARCHAR(50)`   |\n",
    "| `TEAM_HOME_SCORE`                | Puntuación del equipo local                          | `NUMBER`        |\n",
    "| `TEAM_AWAY_SCORE`                | Puntuación del equipo visitante                      | `NUMBER`        |\n",
    "| `POSSESSION_HOME`                | Posesión del balón por parte del equipo local         | `FLOAT`         |\n",
    "| `POSSESSION_AWAY`                | Posesión del balón por parte del equipo visitante     | `FLOAT`         |\n",
    "| `TOTAL_SHOTS_HOME`               | Número de disparos del equipo local                   | `NUMBER`        |\n",
    "| `TOTAL_SHOTS_AWAY`               | Número de disparos del equipo visitante               | `NUMBER`        |\n",
    "| `SHOTS_ON_TARGET_HOME`           | Número total de disparos a puerta del equipo local    | `FLOAT`         |\n",
    "| `SHOTS_ON_TARGET_AWAY`           | Número total de disparos a puerta del equipo visitante| `FLOAT`         |\n",
    "| `DUELS_WON_HOME`                 | Número de duelos ganados por el equipo local para posesión del balón | `NUMBER`        |\n",
    "| `DUELS_WON_AWAY`                 | Número de duelos ganados por el equipo visitante para posesión del balón | `NUMBER`        |\n",
    "| `PREDICTION_TEAM_HOME_WIN`       | Probabilidad de que el equipo local gane              | `FLOAT`         |\n",
    "| `PREDICTION_DRAW`                | Probabilidad de empate                                | `FLOAT`         |\n",
    "| `PREDICTION_TEAM_AWAY_WIN`       | Probabilidad de que el equipo visitante gane          | `FLOAT`         |\n",
    "| `LOCATION`                       | Estadio donde se jugó el partido                     | `VARCHAR(50)`   |"
   ]
  },
  {
   "cell_type": "markdown",
   "metadata": {
    "application/vnd.databricks.v1+cell": {
     "cellMetadata": {
      "byteLimit": 2048000,
      "rowLimit": 10000
     },
     "inputWidgets": {},
     "nuid": "b6ed3067-8a31-45a7-9120-766336560fef",
     "showTitle": false,
     "tableResultSettingsMap": {},
     "title": ""
    }
   },
   "source": [
    "### Requerimientos:  \n",
    "-Puedes utilizar SQL o PySpark"
   ]
  },
  {
   "cell_type": "markdown",
   "metadata": {
    "application/vnd.databricks.v1+cell": {
     "cellMetadata": {
      "byteLimit": 2048000,
      "rowLimit": 10000
     },
     "inputWidgets": {},
     "nuid": "96872dad-7ed6-4372-84e9-763aa2d6c83f",
     "showTitle": false,
     "tableResultSettingsMap": {},
     "title": ""
    }
   },
   "source": [
    "1. Encuentra los 3 equipos que anotaron más goles jugando en su estadio en la UEFA Champions League 2020-21. El resultado debe contener dos columnas: TEAM_NAME_HOME y TEAM_HOME_SCORE ordenadas en orden descendente de TEAM_HOME_SCORE. Guarda la consulta (o el notebook) como TEAM_HOME_WITH_MOST_GOALS."
   ]
  },
  {
   "cell_type": "code",
   "execution_count": 0,
   "metadata": {
    "application/vnd.databricks.v1+cell": {
     "cellMetadata": {
      "byteLimit": 2048000,
      "rowLimit": 10000
     },
     "inputWidgets": {},
     "nuid": "2f784e2c-d780-4148-9873-e36a59e8c2e2",
     "showTitle": false,
     "tableResultSettingsMap": {},
     "title": ""
    }
   },
   "outputs": [],
   "source": [
    "from pyspark.sql import SparkSession\n",
    "\n",
    "spark = SparkSession.builder.appName(\"uefa\").getOrCreate()\n",
    "\n",
    "df_2020 = spark.read.option(\"sep\",\",\").option(\"header\", \"true\").option(\"inferSchema\", \"true\").csv(\"dbfs:/FileStore/tables/uefa_2020.csv\")\n",
    "df_2021 = spark.read.option(\"sep\",\",\").option(\"header\", \"true\").option(\"inferSchema\", \"true\").csv(\"dbfs:/FileStore/tables/uefa_2021.csv\")\n",
    "df_2022 = spark.read.option(\"sep\",\",\").option(\"header\", \"true\").option(\"inferSchema\", \"true\").csv(\"dbfs:/FileStore/tables/uefa_2022.csv\")\n",
    "\n",
    "\n",
    "df_uefa_2020_21 = df_2020.union(df_2021)\n",
    "df_uefa_2020_22 = df_2020.union(df_2021).union(df_2022)\n"
   ]
  },
  {
   "cell_type": "code",
   "execution_count": 0,
   "metadata": {
    "application/vnd.databricks.v1+cell": {
     "cellMetadata": {
      "byteLimit": 2048000,
      "rowLimit": 10000
     },
     "inputWidgets": {},
     "nuid": "2338240e-819a-4a1b-b281-a0395372e5c1",
     "showTitle": false,
     "tableResultSettingsMap": {},
     "title": ""
    }
   },
   "outputs": [
    {
     "output_type": "display_data",
     "data": {
      "text/html": [
       "<style scoped>\n",
       "  .table-result-container {\n",
       "    max-height: 300px;\n",
       "    overflow: auto;\n",
       "  }\n",
       "  table, th, td {\n",
       "    border: 1px solid black;\n",
       "    border-collapse: collapse;\n",
       "  }\n",
       "  th, td {\n",
       "    padding: 5px;\n",
       "  }\n",
       "  th {\n",
       "    text-align: left;\n",
       "  }\n",
       "</style><div class='table-result-container'><table class='table-result'><thead style='background-color: white'><tr><th>TEAM_NAME_HOME</th><th>TOTAL_GOALS</th></tr></thead><tbody><tr><td>Real Madrid</td><td>26</td></tr><tr><td>Manchester City</td><td>25</td></tr><tr><td>Chelsea</td><td>20</td></tr></tbody></table></div>"
      ]
     },
     "metadata": {
      "application/vnd.databricks.v1+output": {
       "addedWidgets": {},
       "aggData": [],
       "aggError": "",
       "aggOverflow": false,
       "aggSchema": [],
       "aggSeriesLimitReached": false,
       "aggType": "",
       "arguments": {},
       "columnCustomDisplayInfos": {},
       "data": [
        [
         "Real Madrid",
         26
        ],
        [
         "Manchester City",
         25
        ],
        [
         "Chelsea",
         20
        ]
       ],
       "datasetInfos": [],
       "dbfsResultPath": null,
       "isJsonSchema": true,
       "metadata": {},
       "overflow": false,
       "plotOptions": {
        "customPlotOptions": {},
        "displayType": "table",
        "pivotAggregation": null,
        "pivotColumns": null,
        "xColumns": null,
        "yColumns": null
       },
       "removedWidgets": [],
       "schema": [
        {
         "metadata": "{}",
         "name": "TEAM_NAME_HOME",
         "type": "\"string\""
        },
        {
         "metadata": "{}",
         "name": "TOTAL_GOALS",
         "type": "\"long\""
        }
       ],
       "type": "table"
      }
     },
     "output_type": "display_data"
    }
   ],
   "source": [
    "df_filtered = df_uefa_2020_22.filter(F.col('TEAM_NAME_HOME').isNotNull())\n",
    "\n",
    "df_grouped = df_filtered.groupBy(\"TEAM_NAME_HOME\") \\\n",
    "    .agg(F.sum(\"TEAM_HOME_SCORE\").alias(\"TOTAL_GOALS\"))\n",
    "\n",
    "df_sorted = df_grouped.orderBy(F.col(\"TOTAL_GOALS\").desc())\n",
    "\n",
    "df_top_3 = df_sorted.limit(3)\n",
    "\n",
    "df_top_3.display()"
   ]
  },
  {
   "cell_type": "markdown",
   "metadata": {
    "application/vnd.databricks.v1+cell": {
     "cellMetadata": {
      "byteLimit": 2048000,
      "rowLimit": 10000
     },
     "inputWidgets": {},
     "nuid": "b375e92e-5c96-4ee8-8c35-29b8e7ab887f",
     "showTitle": false,
     "tableResultSettingsMap": {},
     "title": ""
    }
   },
   "source": [
    "2. Encuentra el equipo con posesión mayoritaria la mayor cantidad de veces durante la UEFA Champions League 2021-22. El resultado debe incluir dos columnas: TEAM_NAME y GAME_COUNT, que es la cantidad de veces que el equipo tuvo posesión mayoritaria durante un partido de fútbol. Guarda esta consulta (o el notebook) como TEAM_WITH_MAJORITY_POSSESSION"
   ]
  },
  {
   "cell_type": "code",
   "execution_count": 0,
   "metadata": {
    "application/vnd.databricks.v1+cell": {
     "cellMetadata": {
      "byteLimit": 2048000,
      "rowLimit": 10000
     },
     "inputWidgets": {},
     "nuid": "4690825c-3370-4ad3-91a1-145072efc912",
     "showTitle": false,
     "tableResultSettingsMap": {},
     "title": ""
    }
   },
   "outputs": [
    {
     "output_type": "stream",
     "name": "stdout",
     "output_type": "stream",
     "text": [
      "+-------------------+----------+\n|          TEAM_NAME|GAME_COUNT|\n+-------------------+----------+\n|          Liverpool|        15|\n|            Chelsea|        13|\n|   Manchester City |        12|\n|        Real Madrid|        12|\n|    Manchester City|        11|\n|     Bayern Munich |        10|\n|       Real Madrid |        10|\n|               Ajax|         9|\n|            Benfica|         9|\n|           Sevilla |         8|\n|         Liverpool |         8|\n|          Barcelona|         8|\n|         Barcelona |         8|\n|               null|         7|\n|           Man City|         7|\n|             Bayern|         7|\n|           Juventus|         7|\n|Paris Saint-Germain|         7|\n|             Napoli|         7|\n|      Bayern Munich|         7|\n+-------------------+----------+\nonly showing top 20 rows\n\n"
     ]
    }
   ],
   "source": [
    "from pyspark.sql import functions as F\n",
    "from pyspark.sql.functions import col, when\n",
    "\n",
    "# Comprobamos que no hay valores nulos\n",
    "df_filtered = df_uefa_2020_22.filter(\n",
    "    (F.col('POSSESSION_HOME').isNotNull()) & \n",
    "    (F.col('POSSESSION_AWAY').isNotNull())\n",
    ")\n",
    "\n",
    "# Convertir 'POSSESSION_HOME' y 'POSSESSION_AWAY' a float, eliminando el símbolo '%' (porcentaje)\n",
    "df_filtered = df_filtered \\\n",
    "    .withColumn(\"POSSESSION_HOME\", F.regexp_replace(F.col(\"POSSESSION_HOME\"), \"%\", \"\").cast(\"float\")) \\\n",
    "    .withColumn(\"POSSESSION_AWAY\", F.regexp_replace(F.col(\"POSSESSION_AWAY\"), \"%\", \"\").cast(\"float\"))\n",
    "\n",
    "\n",
    "df_team_with_majority_possesion = df_filtered.select(F.col(\"TEAM_NAME_HOME\").alias(\"TEAM_NAME\")) \\\n",
    "             .union(df_filtered.select(F.col(\"TEAM_NAME_AWAY\").alias(\"TEAM_NAME\"))) \\\n",
    "             .distinct()  \n",
    "\n",
    "\n",
    "df_with_possession_winner = df_filtered.withColumn(\n",
    "    \"TEAM_NAME\",\n",
    "    F.when(df_filtered[\"POSSESSION_HOME\"] > df_filtered[\"POSSESSION_AWAY\"], df_filtered[\"TEAM_NAME_HOME\"])\n",
    "    .otherwise(F.when(df_filtered[\"POSSESSION_AWAY\"] > df_filtered[\"POSSESSION_HOME\"], df_filtered[\"TEAM_NAME_AWAY\"])\n",
    "    .otherwise(None)) \n",
    ")\n",
    "\n",
    "df_team_with_majority_possession = df_with_possession_winner.groupBy(\"TEAM_NAME\").count().withColumnRenamed(\"count\", \"GAME_COUNT\")\n",
    "\n",
    "df_team_with_majority_possession = df_team_with_majority_possession.orderBy(F.col(\"GAME_COUNT\").desc())\n",
    "\n",
    "df_team_with_majority_possession.show()"
   ]
  },
  {
   "cell_type": "markdown",
   "metadata": {
    "application/vnd.databricks.v1+cell": {
     "cellMetadata": {
      "byteLimit": 2048000,
      "rowLimit": 10000
     },
     "inputWidgets": {},
     "nuid": "7c960a38-f12d-4b88-aaad-b70de0c2323f",
     "showTitle": false,
     "tableResultSettingsMap": {},
     "title": ""
    }
   },
   "source": [
    "3. Encuentra la lista de equipos de cada fase del juego que ganaron el duelo en un partido pero terminaron perdiendo el juego en el Campeonato de la UEFA 2022-23. El resultado debe contener dos columnas: STAGE y TEAM_LOST. Guarda la consulta (o el notebook) como TEAM_WON_DUEL_LOST_GAME_STAGE_WISE."
   ]
  },
  {
   "cell_type": "code",
   "execution_count": 0,
   "metadata": {
    "application/vnd.databricks.v1+cell": {
     "cellMetadata": {
      "byteLimit": 2048000,
      "rowLimit": 10000
     },
     "inputWidgets": {},
     "nuid": "5b5a904a-58be-4e45-8a29-d16b3b8fa65f",
     "showTitle": false,
     "tableResultSettingsMap": {},
     "title": ""
    }
   },
   "outputs": [
    {
     "output_type": "stream",
     "name": "stdout",
     "output_type": "stream",
     "text": [
      "+-------------------+----------+\n|          TEAM_NAME|GAME_COUNT|\n+-------------------+----------+\n|          Marseille|         4|\n|          Barcelona|         3|\n|   Bayer Leverkusen|         3|\n|              Milan|         2|\n|    Atletico Madrid|         2|\n|      Dinamo Zagreb|         2|\n|            Chelsea|         2|\n|          Tottenham|         1|\n|           Salzburg|         1|\n|               Ajax|         1|\n|         RB Leipzig|         1|\n|Paris Saint-Germain|         1|\n|        Real Madrid|         1|\n|              Porto|         1|\n|        Club Brugge|         1|\n|             Napoli|         1|\n|      Bayern Munich|         1|\n|          Liverpool|         1|\n|            Sevilla|         1|\n|           Dortmund|         1|\n+-------------------+----------+\nonly showing top 20 rows\n\n"
     ]
    }
   ],
   "source": [
    "from pyspark.sql import functions as F\n",
    "from pyspark.sql.functions import col, when\n",
    "\n",
    "# Comprobamos que no hay valores nulos\n",
    "df_filtered = df_2022.filter(\n",
    "    (F.col('POSSESSION_HOME').isNotNull()) & \n",
    "    (F.col('POSSESSION_AWAY').isNotNull()) &\n",
    "    (F.col('TEAM_NAME_HOME').isNotNull()) &\n",
    "    (F.col('TEAM_NAME_AWAY').isNotNull()) \n",
    ")\n",
    "\n",
    "# Convertir 'POSSESSION_HOME' y 'POSSESSION_AWAY' a float, eliminando el símbolo '%' (porcentaje)\n",
    "df_filtered = df_filtered \\\n",
    "    .withColumn(\"POSSESSION_HOME\", F.regexp_replace(F.col(\"POSSESSION_HOME\"), \"%\", \"\").cast(\"float\")) \\\n",
    "    .withColumn(\"POSSESSION_AWAY\", F.regexp_replace(F.col(\"POSSESSION_AWAY\"), \"%\", \"\").cast(\"float\"))\n",
    "\n",
    "\n",
    "df_team_with_majority_possesion = df_filtered.select(F.col(\"TEAM_NAME_HOME\").alias(\"TEAM_NAME\")) \\\n",
    "             .union(df_filtered.select(F.col(\"TEAM_NAME_AWAY\").alias(\"TEAM_NAME\"))) \\\n",
    "             .distinct()  \n",
    "\n",
    "\n",
    "df_with_possession_winner = df_filtered.withColumn(\n",
    "    \"TEAM_NAME\",\n",
    "    F.when(\n",
    "        (df_filtered[\"POSSESSION_HOME\"] > df_filtered[\"POSSESSION_AWAY\"]) & \n",
    "        (df_filtered[\"TEAM_HOME_SCORE\"] < df_filtered[\"TEAM_AWAY_SCORE\"]), \n",
    "        df_filtered[\"TEAM_NAME_HOME\"]\n",
    "    ).when(\n",
    "        (df_filtered[\"POSSESSION_HOME\"] < df_filtered[\"POSSESSION_AWAY\"]) & \n",
    "        (df_filtered[\"TEAM_HOME_SCORE\"] > df_filtered[\"TEAM_AWAY_SCORE\"]), \n",
    "        df_filtered[\"TEAM_NAME_AWAY\"]\n",
    "    ).otherwise(None)\n",
    ")\n",
    "\n",
    "df_team_with_majority_possession = df_with_possession_winner.groupBy(\"TEAM_NAME\").count().withColumnRenamed(\"count\", \"GAME_COUNT\").filter(F.col('TEAM_NAME').isNotNull())\n",
    "\n",
    "df_team_with_majority_possession = df_team_with_majority_possession.orderBy(F.col(\"GAME_COUNT\").desc())\n",
    "\n",
    "df_team_with_majority_possession.show()"
   ]
  }
 ],
 "metadata": {
  "application/vnd.databricks.v1+notebook": {
   "dashboards": [],
   "environmentMetadata": null,
   "language": "python",
   "notebookMetadata": {
    "pythonIndentUnit": 4
   },
   "notebookName": "Caso_2",
   "widgets": {}
  }
 },
 "nbformat": 4,
 "nbformat_minor": 0
}
